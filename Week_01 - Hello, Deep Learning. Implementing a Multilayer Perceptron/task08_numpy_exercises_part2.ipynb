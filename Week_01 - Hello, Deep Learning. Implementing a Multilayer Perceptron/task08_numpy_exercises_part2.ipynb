{
 "cells": [
  {
   "cell_type": "markdown",
   "metadata": {
    "id": "-JsfzlbFE3A3"
   },
   "source": [
    "#### 1. Import NumPy\n",
    "\n",
    "Make sure to follow the conventions!"
   ]
  },
  {
   "cell_type": "code",
   "execution_count": 3,
   "metadata": {
    "collapsed": true,
    "id": "-KFBDcZ5E3A6"
   },
   "outputs": [],
   "source": [
    "# Your code here\n",
    "import numpy as np"
   ]
  },
  {
   "cell_type": "markdown",
   "metadata": {
    "id": "YepvzR5qE3A9"
   },
   "source": [
    "#### 2. Create an array of 10 zeros "
   ]
  },
  {
   "cell_type": "code",
   "execution_count": 4,
   "metadata": {
    "collapsed": true,
    "id": "x5RpxdUGE3A_"
   },
   "outputs": [
    {
     "data": {
      "text/plain": [
       "array([0., 0., 0., 0., 0., 0., 0., 0., 0., 0.])"
      ]
     },
     "execution_count": 4,
     "metadata": {},
     "output_type": "execute_result"
    }
   ],
   "source": [
    "# Your code here\n",
    "np.zeros(10)"
   ]
  },
  {
   "cell_type": "code",
   "execution_count": 5,
   "metadata": {
    "id": "678qkOw9E3BD",
    "outputId": "f14cc7bc-f524-43c5-ab2d-f5df9257c246"
   },
   "outputs": [],
   "source": [
    "# Expected output"
   ]
  },
  {
   "cell_type": "markdown",
   "metadata": {
    "id": "CKl8Et_hE3BG"
   },
   "source": [
    "#### 3. Create an array of 10 ones"
   ]
  },
  {
   "cell_type": "code",
   "execution_count": 6,
   "metadata": {
    "collapsed": true,
    "id": "c3V8A17lE3BI"
   },
   "outputs": [
    {
     "data": {
      "text/plain": [
       "array([1., 1., 1., 1., 1., 1., 1., 1., 1., 1.])"
      ]
     },
     "execution_count": 6,
     "metadata": {},
     "output_type": "execute_result"
    }
   ],
   "source": [
    "np.ones(10)"
   ]
  },
  {
   "cell_type": "code",
   "execution_count": 7,
   "metadata": {
    "id": "6XIyS1ITE3BJ",
    "outputId": "1db0dae0-1860-4e33-ac17-4891a1610468"
   },
   "outputs": [],
   "source": [
    "# Expected output"
   ]
  },
  {
   "cell_type": "markdown",
   "metadata": {
    "id": "T5w7aq-tE3BM"
   },
   "source": [
    "#### 4. Create an array of 10 fives"
   ]
  },
  {
   "cell_type": "code",
   "execution_count": 8,
   "metadata": {
    "collapsed": true,
    "id": "wdM1NW3sE3BO"
   },
   "outputs": [
    {
     "data": {
      "text/plain": [
       "array([5., 5., 5., 5., 5., 5., 5., 5., 5., 5.])"
      ]
     },
     "execution_count": 8,
     "metadata": {},
     "output_type": "execute_result"
    }
   ],
   "source": [
    "np.full(10, 5.0)"
   ]
  },
  {
   "cell_type": "code",
   "execution_count": 9,
   "metadata": {
    "id": "374mrGGbE3BP",
    "outputId": "c76b7483-1625-4d0e-f85b-74b2ca71b974"
   },
   "outputs": [],
   "source": [
    "# Expected output"
   ]
  },
  {
   "cell_type": "markdown",
   "metadata": {
    "id": "hLChAScS6hHG"
   },
   "source": [
    "#### 5. Create a vector, named `arr`, of 10 zeros the fifth value of which is 1."
   ]
  },
  {
   "cell_type": "code",
   "execution_count": 10,
   "metadata": {
    "id": "Nj0b1JE17SBr"
   },
   "outputs": [
    {
     "data": {
      "text/plain": [
       "array([0., 0., 0., 0., 1., 0., 0., 0., 0., 0.])"
      ]
     },
     "execution_count": 10,
     "metadata": {},
     "output_type": "execute_result"
    }
   ],
   "source": [
    "list = np.zeros(10)\n",
    "list[4] = 1.0\n",
    "list"
   ]
  },
  {
   "cell_type": "code",
   "execution_count": 11,
   "metadata": {
    "colab": {
     "base_uri": "https://localhost:8080/"
    },
    "executionInfo": {
     "elapsed": 17,
     "status": "ok",
     "timestamp": 1660389362927,
     "user": {
      "displayName": "Simeon Hristov",
      "userId": "14036852932086046142"
     },
     "user_tz": -180
    },
    "id": "Nm5kTOOH6fDk",
    "outputId": "845b883d-3640-44e5-8caf-d967d77ac259"
   },
   "outputs": [],
   "source": [
    "# Expected output"
   ]
  },
  {
   "cell_type": "markdown",
   "metadata": {
    "id": "UJXu8y8PE3BU"
   },
   "source": [
    "#### 6. Create an array of the integers from 10 to 50"
   ]
  },
  {
   "cell_type": "code",
   "execution_count": 12,
   "metadata": {
    "collapsed": true,
    "id": "e4Aqcu66E3BW"
   },
   "outputs": [
    {
     "data": {
      "text/plain": [
       "array([10, 11, 12, 13, 14, 15, 16, 17, 18, 19, 20, 21, 22, 23, 24, 25, 26,\n",
       "       27, 28, 29, 30, 31, 32, 33, 34, 35, 36, 37, 38, 39, 40, 41, 42, 43,\n",
       "       44, 45, 46, 47, 48, 49])"
      ]
     },
     "execution_count": 12,
     "metadata": {},
     "output_type": "execute_result"
    }
   ],
   "source": [
    "np.array(range(10, 50))"
   ]
  },
  {
   "cell_type": "code",
   "execution_count": 13,
   "metadata": {
    "id": "eIJP50wgE3BW",
    "outputId": "dbd75d65-e088-4c0b-f18f-449a3fa9b0a4"
   },
   "outputs": [],
   "source": [
    "# Expected output"
   ]
  },
  {
   "cell_type": "markdown",
   "metadata": {
    "id": "ntJf6Yvw7qPf"
   },
   "source": [
    "#### 7. Reverse an array in **TWO** ways: using 'the Python way' and using a NumPy function"
   ]
  },
  {
   "cell_type": "code",
   "execution_count": 14,
   "metadata": {
    "id": "48YRS8FT8R71"
   },
   "outputs": [
    {
     "name": "stdout",
     "output_type": "stream",
     "text": [
      "Using Python way [3, 2, 1]\n",
      "Using a NumPy function: [3 2 1]\n"
     ]
    }
   ],
   "source": [
    "arr = np.array([1, 2, 3])\n",
    "\n",
    "arr2 = arr.tolist()\n",
    "#Not sure if this is the exact python way\n",
    "print(f\"Using Python way {sorted(arr2, reverse=True)}\")\n",
    "print(f\"Using a NumPy function: {arr[::-1]}\")\n",
    "\n",
    "\n",
    "# Your code here"
   ]
  },
  {
   "cell_type": "code",
   "execution_count": 15,
   "metadata": {
    "colab": {
     "base_uri": "https://localhost:8080/"
    },
    "executionInfo": {
     "elapsed": 612,
     "status": "ok",
     "timestamp": 1660389720070,
     "user": {
      "displayName": "Simeon Hristov",
      "userId": "14036852932086046142"
     },
     "user_tz": -180
    },
    "id": "JTxb_NWQ7qph",
    "outputId": "87e8d92a-988b-407b-f62c-17a37eb7bf4b"
   },
   "outputs": [],
   "source": [
    "# Expected output"
   ]
  },
  {
   "cell_type": "markdown",
   "metadata": {
    "id": "j2cdByl9A2az"
   },
   "source": [
    "#### 8. Create a 5x5 array with 1 on the border and 0 inside"
   ]
  },
  {
   "cell_type": "code",
   "execution_count": 16,
   "metadata": {
    "id": "AWKbpFQcBdGT"
   },
   "outputs": [
    {
     "data": {
      "text/plain": [
       "array([[1., 1., 1., 1., 1.],\n",
       "       [1., 0., 0., 0., 1.],\n",
       "       [1., 0., 0., 0., 1.],\n",
       "       [1., 0., 0., 0., 1.],\n",
       "       [1., 1., 1., 1., 1.]])"
      ]
     },
     "execution_count": 16,
     "metadata": {},
     "output_type": "execute_result"
    }
   ],
   "source": [
    "np_arr = np.zeros((5,5))\n",
    "np_arr[0] = 1\n",
    "np_arr[4] = 1\n",
    "np_arr[:,0] = 1\n",
    "np_arr[:,4] = 1\n",
    "np_arr"
   ]
  },
  {
   "cell_type": "code",
   "execution_count": 17,
   "metadata": {
    "colab": {
     "base_uri": "https://localhost:8080/"
    },
    "executionInfo": {
     "elapsed": 514,
     "status": "ok",
     "timestamp": 1660391015482,
     "user": {
      "displayName": "Simeon Hristov",
      "userId": "14036852932086046142"
     },
     "user_tz": -180
    },
    "id": "AfLBcU-pA2u-",
    "outputId": "a50dc7ad-a163-4bcb-8fed-94945625285f"
   },
   "outputs": [],
   "source": [
    "# Expected output"
   ]
  },
  {
   "attachments": {},
   "cell_type": "markdown",
   "metadata": {
    "id": "kVEGLnbvBM7n"
   },
   "source": [
    "#### 9. Add a border filled with 0's on the two sides of an array.\n",
    "\n",
    "> Hint: [np.pad](https://numpy.org/doc/stable/reference/generated/numpy.pad.html)"
   ]
  },
  {
   "cell_type": "code",
   "execution_count": 18,
   "metadata": {
    "id": "Ngcnwk3TBf5C"
   },
   "outputs": [
    {
     "data": {
      "text/plain": [
       "array([0, 1, 2, 3, 0])"
      ]
     },
     "execution_count": 18,
     "metadata": {},
     "output_type": "execute_result"
    }
   ],
   "source": [
    "np.pad(np.array([1, 2, 3]), (1,1), 'constant', constant_values=(0, 0))\n"
   ]
  },
  {
   "cell_type": "code",
   "execution_count": 19,
   "metadata": {
    "colab": {
     "base_uri": "https://localhost:8080/"
    },
    "executionInfo": {
     "elapsed": 523,
     "status": "ok",
     "timestamp": 1660391095670,
     "user": {
      "displayName": "Simeon Hristov",
      "userId": "14036852932086046142"
     },
     "user_tz": -180
    },
    "id": "YOl3fb2DBNPJ",
    "outputId": "552be39d-2e8d-45d2-cd0a-892ad6867dfa"
   },
   "outputs": [],
   "source": [
    "# Expected output"
   ]
  },
  {
   "cell_type": "markdown",
   "metadata": {
    "id": "wxWKE-vBE3BY"
   },
   "source": [
    "#### 10. Create an array of all the even integers from 10 to 50"
   ]
  },
  {
   "cell_type": "code",
   "execution_count": 20,
   "metadata": {
    "collapsed": true,
    "id": "Qcc9NI7LE3Bb"
   },
   "outputs": [
    {
     "data": {
      "text/plain": [
       "array([10, 12, 14, 16, 18, 20, 22, 24, 26, 28, 30, 32, 34, 36, 38, 40, 42,\n",
       "       44, 46, 48, 50])"
      ]
     },
     "execution_count": 20,
     "metadata": {},
     "output_type": "execute_result"
    }
   ],
   "source": [
    "np.array(np.arange(10, 51, 2))\n"
   ]
  },
  {
   "cell_type": "code",
   "execution_count": 21,
   "metadata": {
    "id": "295MCnOYE3Bb",
    "outputId": "41cf43f3-92c4-436f-cc21-86bb0e0234a0"
   },
   "outputs": [],
   "source": [
    "# Expected output"
   ]
  },
  {
   "cell_type": "markdown",
   "metadata": {
    "id": "8OhFkP71E3Bc"
   },
   "source": [
    "#### 11. Create a 3x3 matrix with values ranging from 0 to 8"
   ]
  },
  {
   "cell_type": "code",
   "execution_count": 22,
   "metadata": {
    "collapsed": true,
    "id": "APZiupuXE3Be"
   },
   "outputs": [
    {
     "data": {
      "text/plain": [
       "array([[0, 1, 2],\n",
       "       [3, 4, 5],\n",
       "       [6, 7, 8]])"
      ]
     },
     "execution_count": 22,
     "metadata": {},
     "output_type": "execute_result"
    }
   ],
   "source": [
    "np.array(np.arange(9)).reshape(3,3)"
   ]
  },
  {
   "cell_type": "code",
   "execution_count": 23,
   "metadata": {
    "id": "2VpDokkhE3Be",
    "outputId": "e4803343-9cc9-4cd1-a010-071685e62c5f"
   },
   "outputs": [],
   "source": [
    "# Expected output"
   ]
  },
  {
   "cell_type": "markdown",
   "metadata": {
    "id": "f4ybYue7E3Bg"
   },
   "source": [
    "#### 12. Create a 3x3 identity matrix"
   ]
  },
  {
   "cell_type": "code",
   "execution_count": 24,
   "metadata": {
    "collapsed": true,
    "id": "7GWjKOUIE3Bi"
   },
   "outputs": [
    {
     "data": {
      "text/plain": [
       "array([[1., 0., 0.],\n",
       "       [0., 1., 0.],\n",
       "       [0., 0., 1.]])"
      ]
     },
     "execution_count": 24,
     "metadata": {},
     "output_type": "execute_result"
    }
   ],
   "source": [
    "arr = np.array(np.zeros(9)).reshape(3,3)\n",
    "np.fill_diagonal(arr, 1)\n",
    "\n",
    "arr"
   ]
  },
  {
   "cell_type": "code",
   "execution_count": 25,
   "metadata": {
    "id": "-yygr2BIE3Bj",
    "outputId": "04283409-1e28-450f-d0e4-be45c27e732a"
   },
   "outputs": [],
   "source": [
    "# Expected output"
   ]
  },
  {
   "attachments": {},
   "cell_type": "markdown",
   "metadata": {
    "id": "2Lv2vt14Blnd"
   },
   "source": [
    "#### 13. Create a 5x5 matrix with values 1,2,3,4 just below the diagonal\n",
    "\n",
    "> Hint: [np.diag](https://numpy.org/doc/stable/reference/generated/numpy.diag.html)"
   ]
  },
  {
   "cell_type": "code",
   "execution_count": 26,
   "metadata": {
    "id": "5502QmG_Bl9B"
   },
   "outputs": [
    {
     "data": {
      "text/plain": [
       "array([[0, 0, 0, 0, 0],\n",
       "       [1, 0, 0, 0, 0],\n",
       "       [0, 2, 0, 0, 0],\n",
       "       [0, 0, 3, 0, 0],\n",
       "       [0, 0, 0, 4, 0]])"
      ]
     },
     "execution_count": 26,
     "metadata": {},
     "output_type": "execute_result"
    }
   ],
   "source": [
    "arr = np.array([1,2,3,4])\n",
    "np.diag(arr , k=-1)"
   ]
  },
  {
   "cell_type": "code",
   "execution_count": 27,
   "metadata": {
    "colab": {
     "base_uri": "https://localhost:8080/"
    },
    "executionInfo": {
     "elapsed": 416,
     "status": "ok",
     "timestamp": 1660391377166,
     "user": {
      "displayName": "Simeon Hristov",
      "userId": "14036852932086046142"
     },
     "user_tz": -180
    },
    "id": "JFwXEtSFCedp",
    "outputId": "7b991ac1-e3a0-43b5-9bc0-5c86b051bac7"
   },
   "outputs": [],
   "source": [
    "# Expected output"
   ]
  },
  {
   "cell_type": "markdown",
   "metadata": {
    "id": "vncZ8OjmE3Bk"
   },
   "source": [
    "#### 14. Use NumPy to generate a random number between 0 and 1\n",
    "\n",
    "**Note**: Your result's value should be different from the one shown below."
   ]
  },
  {
   "cell_type": "code",
   "execution_count": 28,
   "metadata": {
    "collapsed": true,
    "id": "1Ha0bAioE3Bl"
   },
   "outputs": [
    {
     "data": {
      "text/plain": [
       "array([0.61683299])"
      ]
     },
     "execution_count": 28,
     "metadata": {},
     "output_type": "execute_result"
    }
   ],
   "source": [
    "np.random.rand(1)"
   ]
  },
  {
   "cell_type": "code",
   "execution_count": 29,
   "metadata": {
    "id": "QsEWEcd7E3Bl",
    "outputId": "ed838451-65b8-493e-ef58-8fa0c9b4d09b"
   },
   "outputs": [],
   "source": [
    "# Expected output"
   ]
  },
  {
   "cell_type": "markdown",
   "metadata": {
    "id": "w_XXXzl5E3Bn"
   },
   "source": [
    "#### 15. Use NumPy to generate an array of 25 random numbers sampled from a standard normal distribution\n",
    "\n",
    "**Note**: Your result's values should be different from the ones shown below."
   ]
  },
  {
   "cell_type": "code",
   "execution_count": 30,
   "metadata": {
    "collapsed": true,
    "id": "7aLBnXpAE3Bo"
   },
   "outputs": [
    {
     "data": {
      "text/plain": [
       "array([-5.01196064e-01, -1.38406855e+00,  6.78427768e-01, -7.85396266e-01,\n",
       "        1.16641353e+00, -4.59638336e-01, -3.62743905e-01, -6.09013307e-01,\n",
       "       -9.86026882e-01, -1.37035919e+00, -1.30407497e-01, -9.01755579e-02,\n",
       "       -3.68406042e-01,  7.63651823e-01, -1.00257880e-03,  1.28900245e-01,\n",
       "       -3.32365119e-01,  1.80568085e-01,  7.80681084e-01,  1.69491867e-01,\n",
       "        1.26721297e+00,  7.45814413e-01,  4.88662270e-01, -1.13596617e+00,\n",
       "        1.45710475e+00])"
      ]
     },
     "execution_count": 30,
     "metadata": {},
     "output_type": "execute_result"
    }
   ],
   "source": [
    "np.random.normal(0,1, size=(25))\n",
    "#from documentation"
   ]
  },
  {
   "cell_type": "code",
   "execution_count": 31,
   "metadata": {
    "id": "P_NpaqmcE3Bo",
    "outputId": "4a926b63-618e-45dd-b26d-57f15b5bd5b0"
   },
   "outputs": [],
   "source": [
    "# Expected output"
   ]
  },
  {
   "cell_type": "markdown",
   "metadata": {
    "id": "P4gaaqiC-bpK"
   },
   "source": [
    "#### 16. Create a 3x3x3 array with random values drawn from the uniform distribution\n",
    "\n",
    "**Note**: Your result's values should be different from the ones shown below.\n"
   ]
  },
  {
   "cell_type": "code",
   "execution_count": 32,
   "metadata": {
    "id": "iPqIUnBsABK9"
   },
   "outputs": [
    {
     "data": {
      "text/plain": [
       "array([[[0.57441165, 0.34602269, 0.43498372],\n",
       "        [0.69582075, 0.79220492, 0.81080891],\n",
       "        [0.74189553, 0.72231595, 0.72299635]],\n",
       "\n",
       "       [[0.55363156, 0.25819808, 0.64282833],\n",
       "        [0.11691367, 0.17141725, 0.26792875],\n",
       "        [0.03870937, 0.50319908, 0.46309368]],\n",
       "\n",
       "       [[0.147046  , 0.54861091, 0.64741959],\n",
       "        [0.25198539, 0.76518594, 0.45402353],\n",
       "        [0.82026967, 0.9034271 , 0.5054827 ]]])"
      ]
     },
     "execution_count": 32,
     "metadata": {},
     "output_type": "execute_result"
    }
   ],
   "source": [
    "np.random.uniform(size=(3,3,3))"
   ]
  },
  {
   "cell_type": "code",
   "execution_count": 33,
   "metadata": {
    "colab": {
     "base_uri": "https://localhost:8080/"
    },
    "executionInfo": {
     "elapsed": 551,
     "status": "ok",
     "timestamp": 1660390473473,
     "user": {
      "displayName": "Simeon Hristov",
      "userId": "14036852932086046142"
     },
     "user_tz": -180
    },
    "id": "ZGdKczxo-cF4",
    "outputId": "c3d8b909-33c3-46ea-91ca-14e761830d74"
   },
   "outputs": [],
   "source": [
    "# Expected output"
   ]
  },
  {
   "cell_type": "markdown",
   "metadata": {
    "id": "OINlYs2D_PhM"
   },
   "source": [
    "#### 17. Create a 10x10 array with random values drawn from the uniform distribution and find the minimum and maximum values.\n",
    "\n",
    "**Note**: Your result's values should be different from the ones shown below."
   ]
  },
  {
   "cell_type": "code",
   "execution_count": 34,
   "metadata": {
    "id": "76ygftSiAIOw"
   },
   "outputs": [
    {
     "name": "stdout",
     "output_type": "stream",
     "text": [
      "The array: [[8.83712909e-01 8.96486820e-02 4.51298878e-01 1.37869878e-01\n",
      "  5.75575962e-01 5.38400325e-01 4.29118915e-01 1.83279784e-01\n",
      "  1.06515881e-01 7.12401746e-01]\n",
      " [6.29206446e-01 3.18943141e-01 5.98932044e-01 8.34928142e-01\n",
      "  1.69177180e-01 4.12095289e-01 6.57077599e-01 4.40531076e-02\n",
      "  1.04219603e-01 5.28867948e-01]\n",
      " [3.68791422e-01 8.33603141e-01 2.45724947e-01 7.44821859e-01\n",
      "  7.91967979e-01 2.80681430e-01 7.18752884e-02 6.07484378e-01\n",
      "  5.02340577e-01 5.05587036e-01]\n",
      " [5.18068758e-01 6.35701332e-01 3.35760653e-01 7.23832011e-01\n",
      "  9.30576956e-01 5.75756013e-04 4.94763518e-01 4.18489132e-01\n",
      "  9.36337688e-01 9.64406869e-01]\n",
      " [9.03564862e-01 2.30126904e-02 4.32521993e-01 9.17608396e-01\n",
      "  3.86989950e-01 4.64110423e-01 4.60002071e-01 3.73412263e-01\n",
      "  8.04168592e-02 2.75238212e-01]\n",
      " [5.33290625e-01 5.82349329e-01 5.79554422e-01 9.10102652e-01\n",
      "  1.26425280e-01 3.93602251e-02 6.68401186e-01 2.29597361e-01\n",
      "  8.16979096e-02 7.21425292e-01]\n",
      " [1.61764758e-03 1.59566418e-01 7.38661286e-01 3.60823502e-01\n",
      "  1.10709198e-01 5.04161297e-01 8.18931649e-01 4.14336693e-01\n",
      "  8.25115062e-01 5.99809639e-01]\n",
      " [9.92936329e-02 6.53840252e-01 2.83164295e-01 8.70088110e-01\n",
      "  3.22339518e-01 5.01285272e-01 9.38077519e-01 1.38221278e-02\n",
      "  7.73582579e-01 6.87916248e-01]\n",
      " [7.57988449e-01 9.37657588e-01 4.54934365e-01 1.48805953e-01\n",
      "  7.40176687e-01 2.60058108e-01 1.85457545e-01 9.51524592e-01\n",
      "  7.41220364e-01 8.29779792e-01]\n",
      " [1.82119303e-01 9.92985969e-01 8.96766177e-01 9.00683801e-01\n",
      "  2.20438016e-01 1.09324058e-02 8.99098422e-01 1.33727878e-01\n",
      "  5.80845484e-01 7.29048299e-01]]\n",
      "It's min value: 0.0005757560133708983\n",
      "It's max value: 0.9929859691024469\n"
     ]
    }
   ],
   "source": [
    "arr = np.random.uniform(size=(10,10))\n",
    "print(f\"The array: {arr}\")\n",
    "print(f\"It's min value: {arr.min()}\")\n",
    "print(f\"It's max value: {arr.max()}\")"
   ]
  },
  {
   "cell_type": "code",
   "execution_count": 35,
   "metadata": {
    "colab": {
     "base_uri": "https://localhost:8080/"
    },
    "executionInfo": {
     "elapsed": 617,
     "status": "ok",
     "timestamp": 1660390716892,
     "user": {
      "displayName": "Simeon Hristov",
      "userId": "14036852932086046142"
     },
     "user_tz": -180
    },
    "id": "VjK7Pa8L_P4x",
    "outputId": "bdb065d1-b1e4-4ab4-d31a-df8cd57228b6"
   },
   "outputs": [],
   "source": [
    "# Expected output"
   ]
  },
  {
   "cell_type": "markdown",
   "metadata": {
    "id": "mC5EsyskAPlI"
   },
   "source": [
    "#### 18. Create a random array with values drawn from the uniform distribution of size 30 and find the mean value"
   ]
  },
  {
   "cell_type": "code",
   "execution_count": 36,
   "metadata": {
    "id": "sPpFp0cCAucB"
   },
   "outputs": [
    {
     "name": "stdout",
     "output_type": "stream",
     "text": [
      "The array: [0.27620374 0.27567555 0.57294163 0.01404347 0.09327468 0.12144025\n",
      " 0.88271385 0.37203271 0.26189591 0.81657736 0.88390195 0.64984442\n",
      " 0.16166434 0.75385389 0.53109046 0.24889883 0.52707948 0.02457492\n",
      " 0.77134551 0.65115658 0.09370535 0.45486488 0.09943266 0.02045374\n",
      " 0.35583994 0.90433453 0.53684271 0.03656719 0.62699024 0.48523663]\n",
      "Its mean: 0.41681591368205123\n"
     ]
    }
   ],
   "source": [
    "arr = np.random.uniform(size=(30))\n",
    "print(f\"The array: {arr}\")\n",
    "print(f\"Its mean: {arr.mean()}\")"
   ]
  },
  {
   "cell_type": "code",
   "execution_count": 37,
   "metadata": {
    "colab": {
     "base_uri": "https://localhost:8080/"
    },
    "executionInfo": {
     "elapsed": 579,
     "status": "ok",
     "timestamp": 1660390899244,
     "user": {
      "displayName": "Simeon Hristov",
      "userId": "14036852932086046142"
     },
     "user_tz": -180
    },
    "id": "lhWXYE86AQH4",
    "outputId": "b068e7a3-cc01-447a-dafe-7a068ab94e73"
   },
   "outputs": [],
   "source": [
    "# Expected output"
   ]
  },
  {
   "cell_type": "markdown",
   "metadata": {
    "id": "X36sKsquE3Bq"
   },
   "source": [
    "#### 19. Create the following matrix:"
   ]
  },
  {
   "cell_type": "code",
   "execution_count": 38,
   "metadata": {
    "collapsed": true,
    "id": "A3NSaVKWE3Bq"
   },
   "outputs": [
    {
     "data": {
      "text/plain": [
       "array([[0.01, 0.02, 0.03, 0.04, 0.05, 0.06, 0.07, 0.08, 0.09, 0.1 ],\n",
       "       [0.11, 0.12, 0.13, 0.14, 0.15, 0.16, 0.17, 0.18, 0.19, 0.2 ],\n",
       "       [0.21, 0.22, 0.23, 0.24, 0.25, 0.26, 0.27, 0.28, 0.29, 0.3 ],\n",
       "       [0.31, 0.32, 0.33, 0.34, 0.35, 0.36, 0.37, 0.38, 0.39, 0.4 ],\n",
       "       [0.41, 0.42, 0.43, 0.44, 0.45, 0.46, 0.47, 0.48, 0.49, 0.5 ],\n",
       "       [0.51, 0.52, 0.53, 0.54, 0.55, 0.56, 0.57, 0.58, 0.59, 0.6 ],\n",
       "       [0.61, 0.62, 0.63, 0.64, 0.65, 0.66, 0.67, 0.68, 0.69, 0.7 ],\n",
       "       [0.71, 0.72, 0.73, 0.74, 0.75, 0.76, 0.77, 0.78, 0.79, 0.8 ],\n",
       "       [0.81, 0.82, 0.83, 0.84, 0.85, 0.86, 0.87, 0.88, 0.89, 0.9 ],\n",
       "       [0.91, 0.92, 0.93, 0.94, 0.95, 0.96, 0.97, 0.98, 0.99, 1.  ]])"
      ]
     },
     "execution_count": 38,
     "metadata": {},
     "output_type": "execute_result"
    }
   ],
   "source": [
    "arr = np.arange(1, 101).reshape(10,10)\n",
    "arr / 100\n"
   ]
  },
  {
   "cell_type": "code",
   "execution_count": 39,
   "metadata": {
    "id": "ZF6R_G0jE3Bs",
    "outputId": "1c46a6e7-6cf9-41b3-da7b-ecc2c99a6bc1"
   },
   "outputs": [],
   "source": [
    "# Expected output"
   ]
  },
  {
   "cell_type": "markdown",
   "metadata": {
    "id": "v4i505LCE3Bt"
   },
   "source": [
    "#### 20. Create an array of 20 linearly spaced points between 0 and 1:"
   ]
  },
  {
   "cell_type": "code",
   "execution_count": 40,
   "metadata": {
    "collapsed": true,
    "id": "k1JSLEruE3Bv"
   },
   "outputs": [
    {
     "data": {
      "text/plain": [
       "array([0.        , 0.05263158, 0.10526316, 0.15789474, 0.21052632,\n",
       "       0.26315789, 0.31578947, 0.36842105, 0.42105263, 0.47368421,\n",
       "       0.52631579, 0.57894737, 0.63157895, 0.68421053, 0.73684211,\n",
       "       0.78947368, 0.84210526, 0.89473684, 0.94736842, 1.        ])"
      ]
     },
     "execution_count": 40,
     "metadata": {},
     "output_type": "execute_result"
    }
   ],
   "source": [
    "np.linspace(0, 1, 20)"
   ]
  },
  {
   "cell_type": "code",
   "execution_count": 41,
   "metadata": {
    "id": "FqIbXWycE3Bv",
    "outputId": "0b78c58d-23e3-42e0-aadb-7697956a76d6"
   },
   "outputs": [],
   "source": [
    "# Expected output"
   ]
  },
  {
   "cell_type": "markdown",
   "metadata": {
    "id": "csV1F6E-E3Bx"
   },
   "source": [
    "## Numpy Indexing and Selection\n",
    "\n",
    "Now you will be given a starting matrix (be sure to run the cell below!), and be asked to replicate the resulting matrix outputs.\n",
    "\n",
    "In all of the solutions until the last task before the section `NumPy Operations` you should be using `mat`."
   ]
  },
  {
   "cell_type": "code",
   "execution_count": 42,
   "metadata": {
    "id": "PdQlEg3iE3By",
    "outputId": "4855718d-6a97-4e38-dc73-f44b82db4295"
   },
   "outputs": [
    {
     "data": {
      "text/plain": [
       "array([[ 1,  2,  3,  4,  5],\n",
       "       [ 6,  7,  8,  9, 10],\n",
       "       [11, 12, 13, 14, 15],\n",
       "       [16, 17, 18, 19, 20],\n",
       "       [21, 22, 23, 24, 25]])"
      ]
     },
     "execution_count": 42,
     "metadata": {},
     "output_type": "execute_result"
    }
   ],
   "source": [
    "# RUN THIS CELL - THIS IS OUR STARTING MATRIX\n",
    "mat = np.arange(1,26).reshape(5,5)\n",
    "mat"
   ]
  },
  {
   "cell_type": "markdown",
   "metadata": {
    "id": "1UQ2DawgE3B0"
   },
   "source": [
    "#### 21. Write code that reproduces the output shown below."
   ]
  },
  {
   "cell_type": "code",
   "execution_count": 43,
   "metadata": {
    "collapsed": true,
    "id": "lbP6w7AnE3B1"
   },
   "outputs": [
    {
     "data": {
      "text/plain": [
       "array([[12, 13, 14, 15],\n",
       "       [17, 18, 19, 20],\n",
       "       [22, 23, 24, 25]])"
      ]
     },
     "execution_count": 43,
     "metadata": {},
     "output_type": "execute_result"
    }
   ],
   "source": [
    "# CODE HERE\n",
    "mat = np.arange(1,26).reshape(5,5)\n",
    "mat[2:,1:]"
   ]
  },
  {
   "cell_type": "code",
   "execution_count": 44,
   "metadata": {
    "id": "k7yDnnYOE3B2",
    "outputId": "454d330c-7f19-4f4a-d71b-7e1302c97936"
   },
   "outputs": [],
   "source": [
    "# Expected output"
   ]
  },
  {
   "cell_type": "markdown",
   "metadata": {
    "id": "PfjoGK7hE3B3"
   },
   "source": [
    "#### 22. Write code that reproduces the output shown below."
   ]
  },
  {
   "cell_type": "code",
   "execution_count": 45,
   "metadata": {
    "collapsed": true,
    "id": "L7S7zJVFE3B4"
   },
   "outputs": [
    {
     "data": {
      "text/plain": [
       "np.int64(20)"
      ]
     },
     "execution_count": 45,
     "metadata": {},
     "output_type": "execute_result"
    }
   ],
   "source": [
    "mat = np.arange(1,26).reshape(5,5)\n",
    "mat[3,4]"
   ]
  },
  {
   "cell_type": "code",
   "execution_count": 46,
   "metadata": {
    "id": "Xq0kG2LSE3B4",
    "outputId": "3a10c27b-fb61-402b-f634-7b91e297b5a3"
   },
   "outputs": [],
   "source": [
    "# Expected output"
   ]
  },
  {
   "cell_type": "markdown",
   "metadata": {
    "id": "FDGGhOykE3B6"
   },
   "source": [
    "#### 23. Write code that reproduces the output shown below."
   ]
  },
  {
   "cell_type": "code",
   "execution_count": 47,
   "metadata": {
    "collapsed": true,
    "id": "ntcx9bhaE3B7"
   },
   "outputs": [
    {
     "data": {
      "text/plain": [
       "array([[ 2],\n",
       "       [ 7],\n",
       "       [12]])"
      ]
     },
     "execution_count": 47,
     "metadata": {},
     "output_type": "execute_result"
    }
   ],
   "source": [
    "mat = np.arange(1,26).reshape(5,5)\n",
    "#mat\n",
    "mat[0:3,1:2]"
   ]
  },
  {
   "cell_type": "code",
   "execution_count": 48,
   "metadata": {
    "id": "NA5nV-usE3B8",
    "outputId": "b5f50c96-af45-4f76-e6f6-10a92cd6dce2"
   },
   "outputs": [],
   "source": [
    "# Expected output"
   ]
  },
  {
   "cell_type": "markdown",
   "metadata": {
    "id": "rAcP8GMWE3B9"
   },
   "source": [
    "#### 24. Write code that reproduces the output shown below."
   ]
  },
  {
   "cell_type": "code",
   "execution_count": 49,
   "metadata": {
    "collapsed": true,
    "id": "j6zjzGGhE3B-"
   },
   "outputs": [
    {
     "data": {
      "text/plain": [
       "array([21, 22, 23, 24, 25])"
      ]
     },
     "execution_count": 49,
     "metadata": {},
     "output_type": "execute_result"
    }
   ],
   "source": [
    "mat = np.arange(1,26).reshape(5,5)\n",
    "#mat\n",
    "mat[4]"
   ]
  },
  {
   "cell_type": "code",
   "execution_count": 50,
   "metadata": {
    "id": "0lLgHznHE3B_",
    "outputId": "459dbdea-c57b-4287-81ba-5656856de2f3"
   },
   "outputs": [],
   "source": [
    "# Expected output"
   ]
  },
  {
   "cell_type": "markdown",
   "metadata": {
    "id": "kpBFT2DiE3CA"
   },
   "source": [
    "#### 25. Write code that reproduces the output shown below."
   ]
  },
  {
   "cell_type": "code",
   "execution_count": 51,
   "metadata": {
    "collapsed": true,
    "id": "PrsdPgj5E3CC"
   },
   "outputs": [
    {
     "data": {
      "text/plain": [
       "array([[16, 17, 18, 19, 20],\n",
       "       [21, 22, 23, 24, 25]])"
      ]
     },
     "execution_count": 51,
     "metadata": {},
     "output_type": "execute_result"
    }
   ],
   "source": [
    "mat = np.arange(1,26).reshape(5,5)\n",
    "mat[3:]"
   ]
  },
  {
   "cell_type": "code",
   "execution_count": 52,
   "metadata": {
    "id": "GHENKrGbE3CC",
    "outputId": "c26c1648-a148-428e-ebc8-c4f9fa754eef"
   },
   "outputs": [],
   "source": [
    "# Expected output"
   ]
  },
  {
   "cell_type": "markdown",
   "metadata": {
    "id": "nlDu5ole9TTX"
   },
   "source": [
    "#### 26. Find the indices of the non-zero elements in the provided array."
   ]
  },
  {
   "cell_type": "code",
   "execution_count": 72,
   "metadata": {
    "id": "qIKAFdeH-MvF"
   },
   "outputs": [
    {
     "ename": "TypeError",
     "evalue": "'numpy.ndarray' object is not callable",
     "output_type": "error",
     "traceback": [
      "\u001b[1;31m---------------------------------------------------------------------------\u001b[0m",
      "\u001b[1;31mTypeError\u001b[0m                                 Traceback (most recent call last)",
      "Cell \u001b[1;32mIn[72], line 3\u001b[0m\n\u001b[0;32m      1\u001b[0m arr \u001b[38;5;241m=\u001b[39m np\u001b[38;5;241m.\u001b[39marray([\u001b[38;5;241m1\u001b[39m,\u001b[38;5;241m2\u001b[39m,\u001b[38;5;241m0\u001b[39m,\u001b[38;5;241m0\u001b[39m,\u001b[38;5;241m4\u001b[39m,\u001b[38;5;241m0\u001b[39m])\n\u001b[0;32m      2\u001b[0m \u001b[38;5;66;03m#np.where(arr != 0, arr, np.indices(arr))\u001b[39;00m\n\u001b[1;32m----> 3\u001b[0m l \u001b[38;5;241m=\u001b[39m \u001b[38;5;28;43mlist\u001b[39;49m\u001b[43m(\u001b[49m\u001b[43mnp\u001b[49m\u001b[38;5;241;43m.\u001b[39;49m\u001b[43mwhere\u001b[49m\u001b[43m(\u001b[49m\u001b[43marr\u001b[49m\u001b[43m \u001b[49m\u001b[38;5;241;43m!=\u001b[39;49m\u001b[43m \u001b[49m\u001b[38;5;241;43m0\u001b[39;49m\u001b[43m)\u001b[49m\u001b[43m)\u001b[49m\n\u001b[0;32m      4\u001b[0m \u001b[38;5;28mprint\u001b[39m(l)\n\u001b[0;32m      5\u001b[0m \u001b[38;5;66;03m# Your code here\u001b[39;00m\n",
      "\u001b[1;31mTypeError\u001b[0m: 'numpy.ndarray' object is not callable"
     ]
    }
   ],
   "source": [
    "arr = np.array([1,2,0,0,4,0])\n",
    "#np.where(arr != 0, arr, np.indices(arr))\n",
    "l = list(np.where(arr != 0))\n",
    "print(l)\n",
    "# Your code here"
   ]
  },
  {
   "cell_type": "code",
   "execution_count": 54,
   "metadata": {
    "colab": {
     "base_uri": "https://localhost:8080/"
    },
    "executionInfo": {
     "elapsed": 1341,
     "status": "ok",
     "timestamp": 1660390227967,
     "user": {
      "displayName": "Simeon Hristov",
      "userId": "14036852932086046142"
     },
     "user_tz": -180
    },
    "id": "es-2pZGJ9S9q",
    "outputId": "5e9c24e7-0eee-4d6a-bff7-98ba12b82cac"
   },
   "outputs": [],
   "source": [
    "# Expected output"
   ]
  },
  {
   "cell_type": "markdown",
   "metadata": {
    "id": "2f7W_x-3E3CD"
   },
   "source": [
    "## NumPy Operations"
   ]
  },
  {
   "cell_type": "markdown",
   "metadata": {
    "id": "fmax4qmCE3CE"
   },
   "source": [
    "#### 27. Get the sum of all the values in mat"
   ]
  },
  {
   "cell_type": "code",
   "execution_count": 55,
   "metadata": {
    "collapsed": true,
    "id": "lccBg-WKE3CE"
   },
   "outputs": [
    {
     "data": {
      "text/plain": [
       "np.int64(325)"
      ]
     },
     "execution_count": 55,
     "metadata": {},
     "output_type": "execute_result"
    }
   ],
   "source": [
    "mat = np.arange(1,26).reshape(5,5)\n",
    "mat\n",
    "mat.sum()"
   ]
  },
  {
   "cell_type": "code",
   "execution_count": 56,
   "metadata": {
    "id": "G1lomhQEE3CF",
    "outputId": "eb404717-16e8-4ad4-9de2-0aaea05eaba2"
   },
   "outputs": [],
   "source": [
    "# Expected output"
   ]
  },
  {
   "cell_type": "markdown",
   "metadata": {
    "id": "PY8nzRaFE3CG"
   },
   "source": [
    "#### 28. Get the standard deviation of the values in mat"
   ]
  },
  {
   "cell_type": "code",
   "execution_count": 73,
   "metadata": {
    "collapsed": true,
    "id": "WZzuJOiTE3CG"
   },
   "outputs": [
    {
     "data": {
      "text/plain": [
       "np.float64(7.211102550927978)"
      ]
     },
     "execution_count": 73,
     "metadata": {},
     "output_type": "execute_result"
    }
   ],
   "source": [
    "mat = np.arange(1,26).reshape(5,5)\n",
    "mat.std()"
   ]
  },
  {
   "cell_type": "code",
   "execution_count": 58,
   "metadata": {
    "id": "9u7MXt1OE3CH",
    "outputId": "4418b06b-d4f4-4122-cc23-1ccc80591aa0"
   },
   "outputs": [],
   "source": [
    "# Expected output"
   ]
  },
  {
   "cell_type": "markdown",
   "metadata": {
    "id": "QtedOQUgE3CH"
   },
   "source": [
    "#### 29. Get the sum of all the columns in mat"
   ]
  },
  {
   "cell_type": "code",
   "execution_count": 59,
   "metadata": {
    "collapsed": true,
    "id": "igq6F-SLE3CI"
   },
   "outputs": [
    {
     "data": {
      "text/plain": [
       "array([55, 60, 65, 70, 75])"
      ]
     },
     "execution_count": 59,
     "metadata": {},
     "output_type": "execute_result"
    }
   ],
   "source": [
    "mat = np.arange(1,26).reshape(5,5)\n",
    "mat.sum(axis=0)"
   ]
  },
  {
   "cell_type": "code",
   "execution_count": 60,
   "metadata": {
    "id": "mbCsLwxQE3CI",
    "outputId": "74ecfae7-202b-49f1-e46b-d3d59509d741"
   },
   "outputs": [],
   "source": [
    "# Expected output"
   ]
  },
  {
   "cell_type": "markdown",
   "metadata": {
    "id": "knccxXSODH0R"
   },
   "source": [
    "#### 30. Create and multiply a 5x3 matrix by a 3x2 matrix (matrix product). The matrices can hold random values or you can create them manually.\n",
    "\n",
    "**Note**: In this example output the matrices held random values, so your result's values should be different from the ones shown below."
   ]
  },
  {
   "cell_type": "code",
   "execution_count": 61,
   "metadata": {
    "id": "mwk8LrjmDi2x"
   },
   "outputs": [
    {
     "data": {
      "text/plain": [
       "array([[ 22,  28],\n",
       "       [ 49,  64],\n",
       "       [ 76, 100],\n",
       "       [103, 136],\n",
       "       [130, 172]])"
      ]
     },
     "execution_count": 61,
     "metadata": {},
     "output_type": "execute_result"
    }
   ],
   "source": [
    "mat1 = np.arange(1,16).reshape(5,3)\n",
    "mat1\n",
    "\n",
    "mat2 = np.arange(1,7).reshape(3,2)\n",
    "mat2\n",
    "\n",
    "np.matmul(np.arange(1,16).reshape(5,3), np.arange(1,7).reshape(3,2))\n",
    "#i can use @ also here\n"
   ]
  },
  {
   "cell_type": "code",
   "execution_count": 62,
   "metadata": {
    "colab": {
     "base_uri": "https://localhost:8080/"
    },
    "id": "hNFX0eGVwtj_",
    "outputId": "23433f06-8d4e-472a-caeb-793243d1f0dc"
   },
   "outputs": [],
   "source": [
    "# Expected output"
   ]
  },
  {
   "cell_type": "markdown",
   "metadata": {
    "id": "vZO-9cRnDoTk"
   },
   "source": [
    "#### 31. Create a 1D array of random integers between 0 and 9. Negate all elements which are between 3 and 8."
   ]
  },
  {
   "cell_type": "code",
   "execution_count": 63,
   "metadata": {
    "id": "cgo1ooJKDwPN"
   },
   "outputs": [
    {
     "data": {
      "text/plain": [
       "array([ 0,  1, -7, -3,  2,  2,  0,  9, -8, -3], dtype=int32)"
      ]
     },
     "execution_count": 63,
     "metadata": {},
     "output_type": "execute_result"
    }
   ],
   "source": [
    "nums = np.random.randint(0,10, 10)\n",
    "nums = np.where((nums >= 3) & (nums <= 8), -nums, nums)\n",
    "nums"
   ]
  },
  {
   "cell_type": "code",
   "execution_count": 64,
   "metadata": {
    "colab": {
     "base_uri": "https://localhost:8080/"
    },
    "id": "M9IQNbmJwzah",
    "outputId": "c1980b73-1ce0-4434-9e89-5f14e8329706"
   },
   "outputs": [],
   "source": [
    "# Expected output"
   ]
  },
  {
   "cell_type": "markdown",
   "metadata": {
    "id": "Lf8-CAmxD0V6"
   },
   "source": [
    "#### 32. Create a random array of size 10 and sort it"
   ]
  },
  {
   "cell_type": "code",
   "execution_count": 65,
   "metadata": {
    "id": "5lgEf77_D5Se"
   },
   "outputs": [
    {
     "data": {
      "text/plain": [
       "array([0.21918379, 0.3585118 , 0.45231483, 0.46751021, 0.46970618,\n",
       "       0.52201825, 0.53325344, 0.66577266, 0.75420476, 0.86949233])"
      ]
     },
     "execution_count": 65,
     "metadata": {},
     "output_type": "execute_result"
    }
   ],
   "source": [
    "mat = np.sort(np.random.random(10))\n",
    "mat"
   ]
  },
  {
   "cell_type": "code",
   "execution_count": 66,
   "metadata": {
    "colab": {
     "base_uri": "https://localhost:8080/"
    },
    "id": "ufEMUrNmxPRX",
    "outputId": "e3f772c4-f6d2-4fb5-c826-539bbeba2a75"
   },
   "outputs": [],
   "source": [
    "# Expected output"
   ]
  },
  {
   "cell_type": "markdown",
   "metadata": {
    "id": "Lbp-tG24D9Qd"
   },
   "source": [
    "#### 33. Create random vector of values drawn from the uniform distribution of size 10 and replace the maximum value by 0"
   ]
  },
  {
   "cell_type": "code",
   "execution_count": 67,
   "metadata": {
    "id": "PIMnLXk_EDIU"
   },
   "outputs": [
    {
     "name": "stdout",
     "output_type": "stream",
     "text": [
      "The array: [0.36771056 0.55021642 0.74065637 0.52836981 0.76633304 0.95766905\n",
      " 0.19410103 0.27717362 0.65142695 0.74768968]\n",
      "The result [0.19410103 0.27717362 0.36771056 0.52836981 0.55021642 0.65142695\n",
      " 0.74065637 0.74768968 0.76633304 0.        ]\n"
     ]
    }
   ],
   "source": [
    "mat = np.random.uniform(0,1, 10)\n",
    "print(f\"The array: {mat}\")\n",
    "mat = np.sort(mat)\n",
    "mat[-1] = 0\n",
    "print(f\"The result {mat}\")"
   ]
  },
  {
   "cell_type": "code",
   "execution_count": 68,
   "metadata": {
    "colab": {
     "base_uri": "https://localhost:8080/"
    },
    "executionInfo": {
     "elapsed": 14,
     "status": "ok",
     "timestamp": 1660391864203,
     "user": {
      "displayName": "Simeon Hristov",
      "userId": "14036852932086046142"
     },
     "user_tz": -180
    },
    "id": "FOdlAkmSEVMf",
    "outputId": "b7ecf9b9-533d-4a56-c028-328d324fdf9e"
   },
   "outputs": [],
   "source": [
    "# Expected output"
   ]
  },
  {
   "cell_type": "markdown",
   "metadata": {
    "id": "1McMRiqA1SFM"
   },
   "source": [
    "#### 34. What function can we use to ensure that we always get the same random numbers?\n",
    "\n",
    "> **Your answer**: seed?"
   ]
  }
 ],
 "metadata": {
  "anaconda-cloud": {},
  "colab": {
   "collapsed_sections": [],
   "name": "for_home.ipynb",
   "provenance": [],
   "toc_visible": true
  },
  "kernelspec": {
   "display_name": "venv",
   "language": "python",
   "name": "python3"
  },
  "language_info": {
   "codemirror_mode": {
    "name": "ipython",
    "version": 3
   },
   "file_extension": ".py",
   "mimetype": "text/x-python",
   "name": "python",
   "nbconvert_exporter": "python",
   "pygments_lexer": "ipython3",
   "version": "3.10.11"
  }
 },
 "nbformat": 4,
 "nbformat_minor": 0
}
